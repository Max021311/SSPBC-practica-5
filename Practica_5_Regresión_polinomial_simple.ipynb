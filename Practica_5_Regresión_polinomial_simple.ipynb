{
  "nbformat": 4,
  "nbformat_minor": 0,
  "metadata": {
    "colab": {
      "provenance": []
    },
    "kernelspec": {
      "name": "python3",
      "display_name": "Python 3"
    },
    "language_info": {
      "name": "python"
    }
  },
  "cells": [
    {
      "cell_type": "markdown",
      "source": [
        "Se importan las librerías:\n",
        "* numpy: Para la manipulación de los arreglos.\n",
        "* matplotlib: Para la generación de la gráfica.\n",
        "* pandas: Para cargar los datos del CSV."
      ],
      "metadata": {
        "id": "GvgzTDjHlPdE"
      }
    },
    {
      "cell_type": "code",
      "execution_count": 45,
      "metadata": {
        "id": "G5Lhs_EolK6j"
      },
      "outputs": [],
      "source": [
        "import numpy as np\n",
        "import matplotlib.pyplot as plt\n",
        "import pandas as pd"
      ]
    },
    {
      "cell_type": "markdown",
      "source": [
        "Se cargan los datos desde el archivo CSV."
      ],
      "metadata": {
        "id": "7pHgWysEmE0X"
      }
    },
    {
      "cell_type": "code",
      "source": [
        "df = pd.read_csv('./polynomial-regression.csv')\n",
        "X = df.iloc[:, 0].values\n",
        "Y = df.iloc[:, 1].values\n",
        "df.dtypes"
      ],
      "metadata": {
        "id": "wQgbDGUorE2W",
        "colab": {
          "base_uri": "https://localhost:8080/"
        },
        "outputId": "4f7cfcb5-ccb6-43ec-8aa0-03a49f9f0cab"
      },
      "execution_count": 46,
      "outputs": [
        {
          "output_type": "execute_result",
          "data": {
            "text/plain": [
              "araba_fiyat      int64\n",
              "araba_max_hiz    int64\n",
              "dtype: object"
            ]
          },
          "metadata": {},
          "execution_count": 46
        }
      ]
    },
    {
      "cell_type": "markdown",
      "source": [
        "Se define la clase con los métodos para el método de validación **Leave one out**."
      ],
      "metadata": {
        "id": "o-1CpNGQmIwc"
      }
    },
    {
      "cell_type": "code",
      "source": [
        "class LeaveOneOut:\n",
        "  def iter_test_indices (self, X):\n",
        "    return range(len(X))\n",
        "\n",
        "  def iter_test_masks(self, X=None):\n",
        "    for test_index in self.iter_test_indices(X):\n",
        "      test_mask = np.zeros(len(X), dtype=bool)\n",
        "      test_mask[test_index] = True\n",
        "      yield test_mask\n",
        "\n",
        "  def split(self, X):\n",
        "    indices = np.arange(len(X))\n",
        "    for test_index in self.iter_test_masks(X):\n",
        "      train_index = indices[np.logical_not(test_index)]\n",
        "      test_index = indices[test_index]\n",
        "      yield train_index, test_index"
      ],
      "metadata": {
        "id": "7rD6c6_AuOod"
      },
      "execution_count": 47,
      "outputs": []
    },
    {
      "cell_type": "markdown",
      "source": [
        "Se crea la clase `LinearRegression` la cuál se encarga de hacer la optimización y predicción. `PolynomialLinearRegression` no es más que un wrapper de `LinearRegression` que se encarga de convertir el arreglo a una matriz."
      ],
      "metadata": {
        "id": "X1Tz2PHnmiGC"
      }
    },
    {
      "cell_type": "code",
      "source": [
        "class LinearRegression:\n",
        "  def __init__ (self):\n",
        "    self.slope = None\n",
        "    self.intercept = None\n",
        "\n",
        "  def fit (self, X, Y):\n",
        "    # Calcular la matriz de coeficientes\n",
        "    coefficients = np.linalg.inv(X.T.dot(X)).dot(X.T).dot(Y)\n",
        "    # Separar la intersección (ordenada al origen) y los coeficientes polinomiales\n",
        "    self.intercept = coefficients[0]\n",
        "    self.slope = coefficients[1:]\n",
        "\n",
        "  def predict(self, X):\n",
        "    return  np.dot(X, self.slope) + self.intercept\n",
        "\n",
        "class PolynomialRegression (LinearRegression):\n",
        "  def __init__ (self, degree=1):\n",
        "    super().__init__()\n",
        "    self.degree = degree\n",
        "\n",
        "  def fit_transform(self, X):\n",
        "    # Se transforma el arreglo original en una matriz polinomial\n",
        "    return np.column_stack([X ** d for d in range(1, self.degree + 1)])\n",
        "\n",
        "  def fit (self, X, Y):\n",
        "    X_poly = self.fit_transform(X)\n",
        "    # Añadir una columna de unos para el término independiente en la matriz\n",
        "    X_poly = np.column_stack([np.ones(X_poly.shape[0]), X_poly])\n",
        "    super().fit(X_poly, Y)\n",
        "\n",
        "  def predict(self, X):\n",
        "    X_poly = self.fit_transform(X)\n",
        "    return super().predict(X_poly)"
      ],
      "metadata": {
        "id": "TW7PTfQu6bKP"
      },
      "execution_count": 48,
      "outputs": []
    },
    {
      "cell_type": "markdown",
      "source": [
        "Se define la función MSE para poder calcular el error"
      ],
      "metadata": {
        "id": "VTtIQKlQXKDu"
      }
    },
    {
      "cell_type": "code",
      "source": [
        "def mean_squared_error(y_true, y_predicted):\n",
        "    return np.sum((y_true-y_predicted)**2) / len(y_true)"
      ],
      "metadata": {
        "id": "tj72LfyFV2Hz"
      },
      "execution_count": 49,
      "outputs": []
    },
    {
      "cell_type": "markdown",
      "source": [
        "Usando **Leave one out** y apoyandonos de **MSE** obtenemos la instancia para regresión lineal con el menor margen de error."
      ],
      "metadata": {
        "id": "2OPfX6QsXP1x"
      }
    },
    {
      "cell_type": "code",
      "source": [
        "leave_one_out = LeaveOneOut()\n",
        "MIN_ERROR = np.Inf\n",
        "BEST_PR = None\n",
        "errors = []\n",
        "for train_index, test_index in leave_one_out.split(X):\n",
        "  PR = PolynomialRegression(4)\n",
        "  X_train, X_test = X[train_index], X[test_index]\n",
        "  Y_train, Y_test = Y[train_index], Y[test_index]\n",
        "  PR.fit(X_train, Y_train)\n",
        "  Y_pred = PR.predict(X_test)\n",
        "  error = mean_squared_error(Y_test, Y_pred)\n",
        "  errors.append(error)\n",
        "  if error < MIN_ERROR:\n",
        "    MIN_ERROR = error\n",
        "    BEST_PR = PR\n",
        "\n",
        "print(f'Average MSE: {np.mean(errors)}')\n",
        "print(f'Best slope: {BEST_PR.slope}.\\nBest intercept: {BEST_PR.intercept}.')"
      ],
      "metadata": {
        "colab": {
          "base_uri": "https://localhost:8080/"
        },
        "id": "1spODudR6dXV",
        "outputId": "f38fd4e4-dd74-4363-a4db-03b55d5371f0"
      },
      "execution_count": 50,
      "outputs": [
        {
          "output_type": "stream",
          "name": "stdout",
          "text": [
            "Average MSE: 516951.13969465654\n",
            "Best slope: [ 7.58590837e-01 -8.29258846e-04  3.61276950e-07 -5.34744206e-11].\n",
            "Best intercept: 129.59471435853158.\n"
          ]
        }
      ]
    },
    {
      "cell_type": "markdown",
      "source": [
        "Gráficamos los puntos originales del CSV y una línea con los puntos generados desde el valor mínimo al máximo de X en pasos de 10 unidades."
      ],
      "metadata": {
        "id": "8J4vXEiOXpq4"
      }
    },
    {
      "cell_type": "code",
      "source": [
        "X_min = X.min()\n",
        "X_max = X.max()\n",
        "xx = np.arange(X_min, X_max, 10)\n",
        "print(xx.shape)\n",
        "\n",
        "plt.scatter(X, Y)\n",
        "plt.plot(xx, BEST_PR.predict(xx), c=\"red\")\n",
        "plt.xlabel('araba_fiyat')\n",
        "plt.ylabel('araba_max_hiz')\n",
        "plt.show()"
      ],
      "metadata": {
        "colab": {
          "base_uri": "https://localhost:8080/",
          "height": 467
        },
        "id": "AzU5wHT10wDz",
        "outputId": "0879fc9a-489b-4fb1-eb04-b8cb4071d25c"
      },
      "execution_count": 51,
      "outputs": [
        {
          "output_type": "stream",
          "name": "stdout",
          "text": [
            "(294,)\n"
          ]
        },
        {
          "output_type": "display_data",
          "data": {
            "text/plain": [
              "<Figure size 640x480 with 1 Axes>"
            ],
            "image/png": "[encoded data removed]"
          },
          "metadata": {}
        }
      ]
    }
  ]
}